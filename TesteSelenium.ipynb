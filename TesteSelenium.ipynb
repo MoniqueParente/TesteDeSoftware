{
 "cells": [
  {
   "cell_type": "code",
   "execution_count": 40,
   "metadata": {},
   "outputs": [],
   "source": [
    "from selenium import webdriver\n",
    "from webdriver_manager.chrome import ChromeDriverManager\n",
    "from selenium.webdriver.chrome.service import Service"
   ]
  },
  {
   "cell_type": "code",
   "execution_count": 41,
   "metadata": {},
   "outputs": [],
   "source": [
    "servico = Service(ChromeDriverManager().install())\n",
    "\n",
    "# Configurar o driver do Selenium (neste exemplo, usando o ChromeDriver)\n",
    "driver = webdriver.Chrome(service=servico)"
   ]
  },
  {
   "cell_type": "code",
   "execution_count": 42,
   "metadata": {},
   "outputs": [],
   "source": [
    "# Abrir o formulário no navegador\n",
    "driver.get('https://www.datadt.com.br/form_exercicio.html')\n",
    "\n",
    "# Preencher os campos do formulário\n",
    "nome_input = driver.find_element('xpath','//*[@id=\"nome\"]')\n",
    "nome_input.send_keys('Monique Parente')\n",
    "\n",
    "cpf_input = driver.find_element('xpath','//*[@id=\"cpf\"]')\n",
    "cpf_input.send_keys('999.999.999-99')\n",
    "\n",
    "email_input = driver.find_element('xpath','//*[@id=\"email\"]')\n",
    "email_input.send_keys('monique@example.com')\n",
    "\n",
    "telefone_input = driver.find_element('xpath','//*[@id=\"telefone\"]')\n",
    "telefone_input.send_keys('9999.9999')\n",
    "\n",
    "endereco_input = driver.find_element('xpath','//*[@id=\"endereco\"]')\n",
    "endereco_input.send_keys('Vila Camilopolis')\n",
    "\n",
    "cidade_input = driver.find_element('xpath','//*[@id=\"cidade\"]')\n",
    "cidade_input.send_keys('Santo Andre')\n",
    "\n",
    "estado_input = driver.find_element('xpath','//*[@id=\"estado\"]')\n",
    "estado_input.send_keys('Sao Paulo')\n",
    "\n"
   ]
  },
  {
   "cell_type": "code",
   "execution_count": 43,
   "metadata": {},
   "outputs": [],
   "source": [
    "# Clicar no botão \"Salvar\"\n",
    "salvar_button = driver.find_element('xpath',\"//input[@value='Salvar']\")\n",
    "salvar_button.click()"
   ]
  }
 ],
 "metadata": {
  "kernelspec": {
   "display_name": "Python 3.10.10 64-bit",
   "language": "python",
   "name": "python3"
  },
  "language_info": {
   "codemirror_mode": {
    "name": "ipython",
    "version": 3
   },
   "file_extension": ".py",
   "mimetype": "text/x-python",
   "name": "python",
   "nbconvert_exporter": "python",
   "pygments_lexer": "ipython3",
   "version": "3.10.10"
  },
  "orig_nbformat": 4,
  "vscode": {
   "interpreter": {
    "hash": "8d35245c540f104bd5f3c0f03cee254d16ced420e0cbe5533e4238ad62526f37"
   }
  }
 },
 "nbformat": 4,
 "nbformat_minor": 2
}
