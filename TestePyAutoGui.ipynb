{
 "cells": [
  {
   "cell_type": "code",
   "execution_count": 46,
   "metadata": {},
   "outputs": [
    {
     "name": "stdout",
     "output_type": "stream",
     "text": [
      "Requirement already satisfied: pyautogui in c:\\users\\moniq\\appdata\\local\\programs\\python\\python310\\lib\\site-packages (0.9.54)\n",
      "Requirement already satisfied: pymsgbox in c:\\users\\moniq\\appdata\\local\\programs\\python\\python310\\lib\\site-packages (from pyautogui) (1.0.9)\n",
      "Requirement already satisfied: pytweening>=1.0.4 in c:\\users\\moniq\\appdata\\local\\programs\\python\\python310\\lib\\site-packages (from pyautogui) (1.0.7)\n",
      "Requirement already satisfied: pyscreeze>=0.1.21 in c:\\users\\moniq\\appdata\\local\\programs\\python\\python310\\lib\\site-packages (from pyautogui) (0.1.29)\n",
      "Requirement already satisfied: pygetwindow>=0.0.5 in c:\\users\\moniq\\appdata\\local\\programs\\python\\python310\\lib\\site-packages (from pyautogui) (0.0.9)\n",
      "Requirement already satisfied: mouseinfo in c:\\users\\moniq\\appdata\\local\\programs\\python\\python310\\lib\\site-packages (from pyautogui) (0.1.3)\n",
      "Requirement already satisfied: pyrect in c:\\users\\moniq\\appdata\\local\\programs\\python\\python310\\lib\\site-packages (from pygetwindow>=0.0.5->pyautogui) (0.2.0)\n",
      "Requirement already satisfied: pyscreenshot in c:\\users\\moniq\\appdata\\local\\programs\\python\\python310\\lib\\site-packages (from pyscreeze>=0.1.21->pyautogui) (3.1)\n",
      "Requirement already satisfied: Pillow>=9.2.0 in c:\\users\\moniq\\appdata\\local\\programs\\python\\python310\\lib\\site-packages (from pyscreeze>=0.1.21->pyautogui) (9.5.0)\n",
      "Requirement already satisfied: pyperclip in c:\\users\\moniq\\appdata\\local\\programs\\python\\python310\\lib\\site-packages (from mouseinfo->pyautogui) (1.8.2)\n",
      "Requirement already satisfied: EasyProcess in c:\\users\\moniq\\appdata\\local\\programs\\python\\python310\\lib\\site-packages (from pyscreenshot->pyscreeze>=0.1.21->pyautogui) (1.1)\n",
      "Requirement already satisfied: entrypoint2 in c:\\users\\moniq\\appdata\\local\\programs\\python\\python310\\lib\\site-packages (from pyscreenshot->pyscreeze>=0.1.21->pyautogui) (1.1)\n",
      "Requirement already satisfied: mss in c:\\users\\moniq\\appdata\\local\\programs\\python\\python310\\lib\\site-packages (from pyscreenshot->pyscreeze>=0.1.21->pyautogui) (9.0.1)\n"
     ]
    }
   ],
   "source": [
    "!pip install pyautogui"
   ]
  },
  {
   "cell_type": "code",
   "execution_count": 47,
   "metadata": {},
   "outputs": [],
   "source": [
    "import pyautogui\n",
    "import pyperclip\n",
    "import time"
   ]
  },
  {
   "cell_type": "code",
   "execution_count": 48,
   "metadata": {},
   "outputs": [
    {
     "ename": "NameError",
     "evalue": "name 'salvar_button' is not defined",
     "output_type": "error",
     "traceback": [
      "\u001b[1;31m---------------------------------------------------------------------------\u001b[0m",
      "\u001b[1;31mNameError\u001b[0m                                 Traceback (most recent call last)",
      "Cell \u001b[1;32mIn[48], line 33\u001b[0m\n\u001b[0;32m     31\u001b[0m pyautogui\u001b[39m.\u001b[39mwrite(\u001b[39m\"\u001b[39m\u001b[39mSao Paulo\u001b[39m\u001b[39m\"\u001b[39m)\n\u001b[0;32m     32\u001b[0m pyautogui\u001b[39m.\u001b[39mclick(x\u001b[39m=\u001b[39m\u001b[39m47\u001b[39m, y\u001b[39m=\u001b[39m\u001b[39m562\u001b[39m)\n\u001b[1;32m---> 33\u001b[0m salvar_button\u001b[39m.\u001b[39mclick()\n",
      "\u001b[1;31mNameError\u001b[0m: name 'salvar_button' is not defined"
     ]
    }
   ],
   "source": [
    "import pyautogui\n",
    "import pyperclip\n",
    "import time\n",
    "\n",
    "pyautogui.PAUSE = 2\n",
    "\n",
    "pyautogui.hotkey('win', 'r')\n",
    "pyautogui.typewrite('firefox')\n",
    "pyautogui.press('enter')\n",
    "time.sleep(1)\n",
    "\n",
    "pyautogui.hotkey(\"ctrl\", \"t\")\n",
    "pyperclip.copy(\"https://www.datadt.com.br/form_exercicio.html\")\n",
    "pyautogui.hotkey(\"ctrl\", \"v\")\n",
    "pyautogui.press(\"enter\")\n",
    "time.sleep(1)\n",
    "\n",
    "pyautogui.click(x=101, y=216)\n",
    "pyautogui.write(\"Monique Parente\")\n",
    "pyautogui.click(x=82, y=272)\n",
    "pyautogui.write(\"999.999.999-99\")\n",
    "pyautogui.click(x=155, y=315)\n",
    "pyautogui.write(\"monique@example.com\")\n",
    "pyautogui.click(x=148, y=367)\n",
    "pyautogui.write(\"9999.9999\")\n",
    "pyautogui.click(x=99, y=418)\n",
    "pyautogui.write(\"Vila Camilopoles\")\n",
    "pyautogui.click(x=74, y=459)\n",
    "pyautogui.write(\"Santo Andre\")\n",
    "pyautogui.click(x=79, y=511)\n",
    "pyautogui.write(\"Sao Paulo\")\n",
    "pyautogui.click(x=47, y=562)\n",
    "salvar_button.click()"
   ]
  },
  {
   "cell_type": "code",
   "execution_count": null,
   "metadata": {},
   "outputs": [
    {
     "name": "stdout",
     "output_type": "stream",
     "text": [
      "Point(x=47, y=562)\n"
     ]
    }
   ],
   "source": [
    "pyautogui.sleep(4)\n",
    "print(pyautogui.position())"
   ]
  }
 ],
 "metadata": {
  "kernelspec": {
   "display_name": "Python 3.10.10 64-bit",
   "language": "python",
   "name": "python3"
  },
  "language_info": {
   "codemirror_mode": {
    "name": "ipython",
    "version": 3
   },
   "file_extension": ".py",
   "mimetype": "text/x-python",
   "name": "python",
   "nbconvert_exporter": "python",
   "pygments_lexer": "ipython3",
   "version": "3.10.10"
  },
  "orig_nbformat": 4,
  "vscode": {
   "interpreter": {
    "hash": "8d35245c540f104bd5f3c0f03cee254d16ced420e0cbe5533e4238ad62526f37"
   }
  }
 },
 "nbformat": 4,
 "nbformat_minor": 2
}
