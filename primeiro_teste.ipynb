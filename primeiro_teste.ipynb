{
 "cells": [
  {
   "cell_type": "code",
   "execution_count": 17,
   "metadata": {},
   "outputs": [],
   "source": [
    "import psycopg2\n",
    "import random \n",
    "import string \n",
    "import time \n",
    "\n",
    "host ='localhost'\n",
    "port = '1372'\n",
    "database = 'postgres'\n",
    "user = 'postgres'\n",
    "password = '1234567'\n",
    "\n",
    "def generate_random_string(length):\n",
    "    letters = string.ascii_letters\n",
    "    return ''.join(random.choice(letters) for i in range(length))\n",
    "\n",
    "def execute_query(query):\n",
    "    conn = psycopg2.connect(host=host, port=port, database=database, user=user ,password=password)\n",
    "    cursor = conn.cursor()\n",
    "    cursor.execute(query)\n",
    "    conn.commit()\n",
    "    conn.close()\n",
    "\n",
    "# Funcao para executar uma consulta no banco de dados\n",
    "def execute_query(query):\n",
    "    conn = psycopg2.connect(host=host, port=port, database=database, user=user ,password=password)\n",
    "    cursor = conn.cursor()\n",
    "    cursor.execute(query)\n",
    "    conn.commit()\n",
    "    conn.close()\n",
    "\n",
    "def read_query(query):\n",
    "    conn = psycopg2.connect(host=host, port=port, database=database, user=user ,password=password)\n",
    "    cursor = conn.cursor()\n",
    "    cursor.execute(query)\n",
    "    result = cursor.fetchall()\n",
    "    cursor.close()\n",
    "    conn.close()\n",
    "    return result\n",
    "\n",
    "def perform_volume_test(num_records):\n",
    "\n",
    "    for i in range(num_records):\n",
    "        dados = generate_random_string(1000)\n",
    "        insert_query = f\"INSERT INTO tabela_exemplo(dados) VALUES ('{dados}');\"\n",
    "        execute_query(insert_query)\n",
    "\n",
    "    count_query = \"SELECT COUNT(*) FROM tabela_exemplo;\"\n",
    "    result = read_query(count_query)\n",
    "    count = result[0][0]\n",
    "    print(f\"Número Total de Registros:{count}\")\n",
    "\n",
    "\n"
   ]
  },
  {
   "cell_type": "code",
   "execution_count": 18,
   "metadata": {},
   "outputs": [
    {
     "name": "stdout",
     "output_type": "stream",
     "text": [
      "Número Total de Registros:2001\n",
      "Numero Tempo de execucao:91.16468334197998\n"
     ]
    }
   ],
   "source": [
    "#Executa o teste de volume com 1000 registro\n",
    "start_time = time.time()\n",
    "perform_volume_test(1000)\n",
    "end_time = time.time()\n",
    "elapsed_time = end_time - start_time\n",
    "print(f\"Numero Tempo de execucao:{elapsed_time}\")"
   ]
  }
 ],
 "metadata": {
  "kernelspec": {
   "display_name": "Python 3.10.10 64-bit",
   "language": "python",
   "name": "python3"
  },
  "language_info": {
   "codemirror_mode": {
    "name": "ipython",
    "version": 3
   },
   "file_extension": ".py",
   "mimetype": "text/x-python",
   "name": "python",
   "nbconvert_exporter": "python",
   "pygments_lexer": "ipython3",
   "version": "3.10.10"
  },
  "orig_nbformat": 4,
  "vscode": {
   "interpreter": {
    "hash": "8d35245c540f104bd5f3c0f03cee254d16ced420e0cbe5533e4238ad62526f37"
   }
  }
 },
 "nbformat": 4,
 "nbformat_minor": 2
}
